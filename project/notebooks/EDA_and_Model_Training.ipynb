{
 "cells": [
  {
   "cell_type": "code",
   "execution_count": null,
   "metadata": {},
   "outputs": [],
   "source": [
    "import pandas as pd\n",
    "import numpy as np\n",
    "import matplotlib.pyplot as plt\n",
    "import seaborn as sns\n",
    "\n",
    "# Загрузка данных\n",
    "train = pd.read_parquet('data/train.parquet')\n",
    "test = pd.read_parquet('data/test.parquet')\n",
    "\n",
    "# EDA\n",
    "print(train.head())\n",
    "print(train.describe())\n",
    "print(train.label.value_counts())\n",
    "\n",
    "# Визуализация\n",
    "plt.figure(figsize=(12, 6))\n",
    "sns.countplot(x='label', data=train)\n",
    "plt.title('Class Distribution')\n",
    "plt.show()\n",
    "\n",
    "\n",
    "from sklearn.model_selection import train_test_split\n",
    "from sklearn.ensemble import RandomForestClassifier\n",
    "from sklearn.metrics import roc_auc_score\n",
    "import joblib\n",
    "\n",
    "# Загрузка признаков\n",
    "X_train = pd.read_csv('data/X_train.csv')\n",
    "y_train = train['label']\n",
    "\n",
    "# Разделение данных\n",
    "X_train_split, X_val_split, y_train_split, y_val_split = train_test_split(X_train, y_train, test_size=0.2, random_state=42)\n",
    "\n",
    "# Обучение модели\n",
    "model = RandomForestClassifier(random_state=42)\n",
    "model.fit(X_train_split, y_train_split)\n",
    "\n",
    "# Валидация\n",
    "y_val_pred = model.predict_proba(X_val_split)[:, 1]\n",
    "roc_auc = roc_auc_score(y_val_split, y_val_pred)\n",
    "print(f'ROC AUC: {roc_auc}')\n",
    "\n",
    "# Сохранение модели\n",
    "joblib.dump(model, 'model/rf_model.joblib')"
   ]
  }
 ],
 "metadata": {
  "kernelspec": {
   "display_name": "Julia 1.10.2",
   "language": "julia",
   "name": "julia-1.10"
  },
  "language_info": {
   "file_extension": ".jl",
   "mimetype": "application/julia",
   "name": "julia",
   "version": "1.10.2"
  }
 },
 "nbformat": 4,
 "nbformat_minor": 2
}
